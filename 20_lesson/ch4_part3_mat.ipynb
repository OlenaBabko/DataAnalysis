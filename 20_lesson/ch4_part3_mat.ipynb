{
 "cells": [
  {
   "cell_type": "code",
   "execution_count": 16,
   "id": "1749e2e4-43bd-4e47-b7c3-4cadbacb305b",
   "metadata": {},
   "outputs": [],
   "source": [
    "import matplotlib.pyplot as plt\n",
    "import numpy as np\n",
    "import scipy.io\n",
    "\n",
    "A=scipy.io.loadmat('data.mat')"
   ]
  },
  {
   "cell_type": "code",
   "execution_count": 17,
   "id": "e653ab7e-4295-46e2-8936-004874b5e44b",
   "metadata": {},
   "outputs": [
    {
     "name": "stdout",
     "output_type": "stream",
     "text": [
      "{'__header__': b'MATLAB 5.0 MAT-file, Platform: PCWIN64, Created on: Wed Jul 13 20:46:09 2022', '__version__': '1.0', '__globals__': [], 'gateVoltages': array([[ 0. ,  0.1,  0.2,  0.3,  0.4,  0.5,  0.6,  0.7,  0.8,  0.9,  1. ,\n",
      "         1.1,  1.2,  1.3,  1.4,  1.5,  1.6,  1.7,  1.8,  1.9,  2. ,  2.1,\n",
      "         2.2,  2.3,  2.4,  2.5,  2.6,  2.7,  2.8,  2.9,  3. ,  3.1,  3.2,\n",
      "         3.3,  3.4,  3.5,  3.6,  3.7,  3.8,  3.9,  4. ,  4.1,  4.2,  4.3,\n",
      "         4.4,  4.5,  4.6,  4.7,  4.8,  4.9,  5. ,  5.1,  5.2,  5.3,  5.4,\n",
      "         5.5,  5.6,  5.7,  5.8,  5.9,  6. ,  6.1,  6.2,  6.3,  6.4,  6.5,\n",
      "         6.6,  6.7,  6.8,  6.9,  7. ,  7.1,  7.2,  7.3,  7.4,  7.5,  7.6,\n",
      "         7.7,  7.8,  7.9,  8. ,  8.1,  8.2,  8.3,  8.4,  8.5,  8.6,  8.7,\n",
      "         8.8,  8.9,  9. ,  9.1,  9.2,  9.3,  9.4,  9.5,  9.6,  9.7,  9.8,\n",
      "         9.9, 10. , 10.1, 10.2, 10.3, 10.4, 10.5, 10.6, 10.7, 10.8, 10.9,\n",
      "        11. , 11.1, 11.2, 11.3, 11.4, 11.5, 11.6, 11.7, 11.8, 11.9, 12. ,\n",
      "        12.1, 12.2, 12.3, 12.4, 12.5, 12.6, 12.7, 12.8, 12.9, 13. , 13.1,\n",
      "        13.2, 13.3, 13.4, 13.5, 13.6, 13.7, 13.8, 13.9, 14. , 14.1, 14.2,\n",
      "        14.3, 14.4, 14.5, 14.6, 14.7, 14.8, 14.9, 15. , 15.1, 15.2, 15.3,\n",
      "        15.4, 15.5, 15.6, 15.7, 15.8, 15.9, 16. , 16.1, 16.2, 16.3, 16.4,\n",
      "        16.5, 16.6, 16.7, 16.8, 16.9, 17. , 17.1, 17.2, 17.3, 17.4, 17.5,\n",
      "        17.6, 17.7, 17.8, 17.9, 18. , 18.1, 18.2, 18.3, 18.4, 18.5, 18.6,\n",
      "        18.7, 18.8, 18.9, 19. , 19.1, 19.2, 19.3, 19.4, 19.5, 19.6, 19.7,\n",
      "        19.8, 19.9, 20. ]]), 'scans': array([[3.03545e-09, 3.03500e-09, 3.03682e-09, 3.04273e-09, 3.05273e-09,\n",
      "        3.06592e-09, 3.08047e-09, 3.09502e-09, 3.10912e-09, 3.12185e-09,\n",
      "        3.13595e-09, 3.15278e-09, 3.17051e-09, 3.19007e-09, 3.20962e-09,\n",
      "        3.22918e-09, 3.24827e-09, 3.26646e-09, 3.28329e-09, 3.30012e-09,\n",
      "        3.33286e-09, 3.34650e-09, 3.36060e-09, 3.37742e-09, 3.39425e-09,\n",
      "        3.41107e-09, 3.42699e-09, 3.44245e-09, 3.45518e-09, 3.46746e-09,\n",
      "        3.48065e-09, 3.49338e-09, 3.50748e-09, 3.52249e-09, 3.53886e-09,\n",
      "        3.55659e-09, 3.57387e-09, 3.58979e-09, 3.60207e-09, 3.62481e-09,\n",
      "        3.63799e-09, 3.64663e-09, 3.65527e-09, 3.66573e-09, 3.67756e-09,\n",
      "        3.68983e-09, 3.70029e-09, 3.71075e-09, 3.72258e-09, 3.73578e-09,\n",
      "        3.74806e-09, 3.75942e-09, 3.77034e-09, 3.77852e-09, 3.78489e-09,\n",
      "        3.79262e-09, 3.80081e-09, 3.80854e-09, 3.81672e-09, 3.82445e-09,\n",
      "        3.83400e-09, 3.84082e-09, 3.84810e-09, 3.85674e-09, 3.86538e-09,\n",
      "        3.87311e-09, 3.87948e-09, 3.88448e-09, 3.89085e-09, 3.89858e-09,\n",
      "        3.90949e-09, 3.92177e-09, 3.93268e-09, 3.94269e-09, 3.95042e-09,\n",
      "        3.95906e-09, 3.96906e-09, 3.98089e-09, 3.99316e-09, 4.00499e-09,\n",
      "        4.01408e-09, 4.01909e-09, 4.02409e-09, 4.03000e-09, 4.03637e-09,\n",
      "        4.04410e-09, 4.05274e-09, 4.06229e-09, 4.07138e-09, 4.08139e-09,\n",
      "        4.09094e-09, 4.09821e-09, 4.10412e-09, 4.10958e-09, 4.11413e-09,\n",
      "        4.11868e-09, 4.12413e-09, 4.13095e-09, 4.13777e-09, 4.14414e-09,\n",
      "        4.15233e-09, 4.15960e-09, 4.16779e-09, 4.17643e-09, 4.18507e-09,\n",
      "        4.19371e-09, 4.20280e-09, 4.21008e-09, 4.21872e-09, 4.22781e-09,\n",
      "        4.23873e-09, 4.25010e-09, 4.25919e-09, 4.26692e-09, 4.27420e-09,\n",
      "        4.28102e-09, 4.28739e-09, 4.29375e-09, 4.29830e-09, 4.30239e-09,\n",
      "        4.30603e-09, 4.30921e-09, 4.31376e-09, 4.31876e-09, 4.32422e-09,\n",
      "        4.33104e-09, 4.33968e-09, 4.34787e-09, 4.35469e-09, 4.35969e-09,\n",
      "        4.36378e-09, 4.36742e-09, 4.37106e-09, 4.37470e-09, 4.37970e-09,\n",
      "        4.38470e-09, 4.38789e-09, 4.38970e-09, 4.39243e-09, 4.39698e-09,\n",
      "        4.40471e-09, 4.41381e-09, 4.42381e-09, 4.43382e-09, 4.44291e-09,\n",
      "        4.45200e-09, 4.46065e-09, 4.46838e-09, 4.47520e-09, 4.48111e-09,\n",
      "        4.48657e-09, 4.49202e-09, 4.49884e-09, 4.50612e-09, 4.51203e-09,\n",
      "        4.51885e-09, 4.52476e-09, 4.53068e-09, 4.53704e-09, 4.54295e-09,\n",
      "        4.54705e-09, 4.55205e-09, 4.55842e-09, 4.56433e-09, 4.57115e-09,\n",
      "        4.57797e-09, 4.58479e-09, 4.59025e-09, 4.59480e-09, 4.59843e-09,\n",
      "        4.60071e-09, 4.60298e-09, 4.60571e-09, 4.60844e-09, 4.61162e-09,\n",
      "        4.61571e-09, 4.62026e-09, 4.62344e-09, 4.62617e-09, 4.62936e-09,\n",
      "        4.63436e-09, 4.63936e-09, 4.64527e-09, 4.65118e-09, 4.65619e-09,\n",
      "        4.66028e-09, 4.66483e-09, 4.67210e-09, 4.67938e-09, 4.68575e-09,\n",
      "        4.68938e-09, 4.69393e-09, 4.70030e-09, 4.70575e-09, 4.71030e-09,\n",
      "        4.71439e-09, 4.71940e-09, 4.72303e-09, 4.72713e-09, 4.73167e-09,\n",
      "        4.73804e-09]])}\n"
     ]
    }
   ],
   "source": [
    "print(A)"
   ]
  },
  {
   "cell_type": "code",
   "execution_count": 18,
   "id": "9a6e6697-ccf2-453c-aae5-417148b8b232",
   "metadata": {},
   "outputs": [],
   "source": [
    "xdata=A['gateVoltages']\n",
    "ydata=A['scans']"
   ]
  },
  {
   "cell_type": "code",
   "execution_count": 19,
   "id": "953b2d57-79a2-47af-985a-74e83cb475d3",
   "metadata": {},
   "outputs": [
    {
     "data": {
      "text/plain": [
       "(1, 201)"
      ]
     },
     "execution_count": 19,
     "metadata": {},
     "output_type": "execute_result"
    }
   ],
   "source": [
    "np.shape(xdata)"
   ]
  },
  {
   "cell_type": "code",
   "execution_count": 20,
   "id": "40a1c739-ccb3-444c-b97a-2d2f2b9ee624",
   "metadata": {},
   "outputs": [
    {
     "data": {
      "text/plain": [
       "(1, 201)"
      ]
     },
     "execution_count": 20,
     "metadata": {},
     "output_type": "execute_result"
    }
   ],
   "source": [
    "np.shape(ydata)"
   ]
  },
  {
   "cell_type": "code",
   "execution_count": 21,
   "id": "263078d4-decc-4e1d-8cac-720266c1600d",
   "metadata": {},
   "outputs": [
    {
     "data": {
      "text/plain": [
       "[<matplotlib.lines.Line2D at 0x21863b64d30>]"
      ]
     },
     "execution_count": 21,
     "metadata": {},
     "output_type": "execute_result"
    },
    {
     "data": {
      "image/png": "[encoded data removed]",
      "text/plain": [
       "<Figure size 432x288 with 1 Axes>"
      ]
     },
     "metadata": {
      "needs_background": "light"
     },
     "output_type": "display_data"
    }
   ],
   "source": [
    "plt.plot(np.transpose(xdata),np.transpose(ydata))"
   ]
  },
  {
   "cell_type": "code",
   "execution_count": null,
   "id": "885e5dda-1798-40c1-93d5-b165d6991154",
   "metadata": {},
   "outputs": [],
   "source": []
  }
 ],
 "metadata": {
  "kernelspec": {
   "display_name": "Python 3 (ipykernel)",
   "language": "python",
   "name": "python3"
  },
  "language_info": {
   "codemirror_mode": {
    "name": "ipython",
    "version": 3
   },
   "file_extension": ".py",
   "mimetype": "text/x-python",
   "name": "python",
   "nbconvert_exporter": "python",
   "pygments_lexer": "ipython3",
   "version": "3.9.7"
  }
 },
 "nbformat": 4,
 "nbformat_minor": 5
}
